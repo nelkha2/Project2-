{
 "cells": [
  {
   "cell_type": "code",
   "execution_count": 1,
   "metadata": {},
   "outputs": [],
   "source": [
    "import pandas as pd\n",
    "import numpy as np\n",
    "import lyricsgenius\n",
    "from config import u, p\n",
    "from sqlalchemy import create_engine"
   ]
  },
  {
   "cell_type": "code",
   "execution_count": 2,
   "metadata": {},
   "outputs": [],
   "source": [
    "genius = lyricsgenius.Genius(\"p6ctaU5y06hG-yggcUBTOqTlDIiZBSKzarJVoy6rn5w9R2fYkgHhRZAzbChbmSCh\")\n",
    "genius.verbose = True # Turn on/off status messages\n",
    "genius.remove_section_headers = True # Remove section headers (e.g. [Chorus]) from lyrics when searching\n",
    "genius.skip_non_songs = False # Include hits thought to be non-songs (e.g. track lists)\n",
    "genius.excluded_terms = [\"(Remix)\", \"(Live)\"] # Exclude songs with these words in their title"
   ]
  },
  {
   "cell_type": "code",
   "execution_count": 3,
   "metadata": {},
   "outputs": [],
   "source": [
    "songs_file = 'data/billboard_songs_merged.csv'"
   ]
  },
  {
   "cell_type": "code",
   "execution_count": 4,
   "metadata": {},
   "outputs": [],
   "source": [
    "#Set the start and end record for fetching the lyrics in batches. \n",
    "start = 298 - 1 #Set Start equal to End for next batch\n",
    "end = 500"
   ]
  },
  {
   "cell_type": "code",
   "execution_count": 5,
   "metadata": {},
   "outputs": [],
   "source": [
    "songs_data = pd.read_csv(songs_file)[start:end].set_index('RankId')"
   ]
  },
  {
   "cell_type": "code",
   "execution_count": 6,
   "metadata": {},
   "outputs": [],
   "source": [
    "#add colummn for genius lyrics\n",
    "songs_data[\"LyricsStatus\"] = \"\"\n",
    "songs_data[\"GeniusLyrics\"] = \"\""
   ]
  },
  {
   "cell_type": "code",
   "execution_count": 7,
   "metadata": {},
   "outputs": [
    {
     "data": {
      "text/html": [
       "<div>\n",
       "<style scoped>\n",
       "    .dataframe tbody tr th:only-of-type {\n",
       "        vertical-align: middle;\n",
       "    }\n",
       "\n",
       "    .dataframe tbody tr th {\n",
       "        vertical-align: top;\n",
       "    }\n",
       "\n",
       "    .dataframe thead th {\n",
       "        text-align: right;\n",
       "    }\n",
       "</style>\n",
       "<table border=\"1\" class=\"dataframe\">\n",
       "  <thead>\n",
       "    <tr style=\"text-align: right;\">\n",
       "      <th></th>\n",
       "      <th>Rank</th>\n",
       "      <th>Song_x</th>\n",
       "      <th>Artist_x</th>\n",
       "      <th>Year</th>\n",
       "      <th>Song_y</th>\n",
       "      <th>Artist_y</th>\n",
       "      <th>Lyrics</th>\n",
       "      <th>Source</th>\n",
       "      <th>LyricsStatus</th>\n",
       "      <th>GeniusLyrics</th>\n",
       "    </tr>\n",
       "    <tr>\n",
       "      <th>RankId</th>\n",
       "      <th></th>\n",
       "      <th></th>\n",
       "      <th></th>\n",
       "      <th></th>\n",
       "      <th></th>\n",
       "      <th></th>\n",
       "      <th></th>\n",
       "      <th></th>\n",
       "      <th></th>\n",
       "      <th></th>\n",
       "    </tr>\n",
       "  </thead>\n",
       "  <tbody>\n",
       "    <tr>\n",
       "      <th>298</th>\n",
       "      <td>98</td>\n",
       "      <td>I Can See for Miles</td>\n",
       "      <td>The Who</td>\n",
       "      <td>1967</td>\n",
       "      <td>i can see for miles</td>\n",
       "      <td>the who</td>\n",
       "      <td>the who miscellaneous i can see for miles i ca...</td>\n",
       "      <td>3.0</td>\n",
       "      <td></td>\n",
       "      <td></td>\n",
       "    </tr>\n",
       "    <tr>\n",
       "      <th>299</th>\n",
       "      <td>99</td>\n",
       "      <td>Don't Sleep in the Subway</td>\n",
       "      <td>Petula Clark</td>\n",
       "      <td>1967</td>\n",
       "      <td>dont sleep in the subway</td>\n",
       "      <td>petula clark</td>\n",
       "      <td>you wander around on your own little cloud wh...</td>\n",
       "      <td>1.0</td>\n",
       "      <td></td>\n",
       "      <td></td>\n",
       "    </tr>\n",
       "    <tr>\n",
       "      <th>300</th>\n",
       "      <td>100</td>\n",
       "      <td>Thank the Lord for the Night Time</td>\n",
       "      <td>Neil Diamond</td>\n",
       "      <td>1967</td>\n",
       "      <td>thank the lord for the night time</td>\n",
       "      <td>neil diamond</td>\n",
       "      <td>NA</td>\n",
       "      <td>1.0</td>\n",
       "      <td></td>\n",
       "      <td></td>\n",
       "    </tr>\n",
       "    <tr>\n",
       "      <th>301</th>\n",
       "      <td>1</td>\n",
       "      <td>Hey Jude</td>\n",
       "      <td>The Beatles</td>\n",
       "      <td>1968</td>\n",
       "      <td>hey jude</td>\n",
       "      <td>the beatles</td>\n",
       "      <td>hey jude dont make it bad take a sad song and ...</td>\n",
       "      <td>3.0</td>\n",
       "      <td></td>\n",
       "      <td></td>\n",
       "    </tr>\n",
       "    <tr>\n",
       "      <th>302</th>\n",
       "      <td>2</td>\n",
       "      <td>Love is Blue</td>\n",
       "      <td>Paul Mauriat</td>\n",
       "      <td>1968</td>\n",
       "      <td>love is blue</td>\n",
       "      <td>paul mauriat</td>\n",
       "      <td>instrumental</td>\n",
       "      <td>3.0</td>\n",
       "      <td></td>\n",
       "      <td></td>\n",
       "    </tr>\n",
       "  </tbody>\n",
       "</table>\n",
       "</div>"
      ],
      "text/plain": [
       "        Rank                             Song_x      Artist_x  Year  \\\n",
       "RankId                                                                \n",
       "298       98                I Can See for Miles       The Who  1967   \n",
       "299       99          Don't Sleep in the Subway  Petula Clark  1967   \n",
       "300      100  Thank the Lord for the Night Time  Neil Diamond  1967   \n",
       "301        1                           Hey Jude   The Beatles  1968   \n",
       "302        2                       Love is Blue  Paul Mauriat  1968   \n",
       "\n",
       "                                   Song_y      Artist_y  \\\n",
       "RankId                                                    \n",
       "298                   i can see for miles       the who   \n",
       "299              dont sleep in the subway  petula clark   \n",
       "300     thank the lord for the night time  neil diamond   \n",
       "301                              hey jude   the beatles   \n",
       "302                          love is blue  paul mauriat   \n",
       "\n",
       "                                                   Lyrics  Source  \\\n",
       "RankId                                                              \n",
       "298     the who miscellaneous i can see for miles i ca...     3.0   \n",
       "299      you wander around on your own little cloud wh...     1.0   \n",
       "300                                                   NA      1.0   \n",
       "301     hey jude dont make it bad take a sad song and ...     3.0   \n",
       "302                                          instrumental     3.0   \n",
       "\n",
       "       LyricsStatus GeniusLyrics  \n",
       "RankId                            \n",
       "298                               \n",
       "299                               \n",
       "300                               \n",
       "301                               \n",
       "302                               "
      ]
     },
     "execution_count": 7,
     "metadata": {},
     "output_type": "execute_result"
    }
   ],
   "source": [
    "songs_data.head()"
   ]
  },
  {
   "cell_type": "code",
   "execution_count": 10,
   "metadata": {},
   "outputs": [
    {
     "name": "stdout",
     "output_type": "stream",
     "text": [
      "Done.\n",
      "Searching for \"Games People Play\" by Joe South...\n",
      "Done.\n",
      "Searching for \"You Showed Me\" by The Turtles...\n",
      "Done.\n",
      "Searching for \"Tracy\" by The Cuff Links...\n",
      "Done.\n",
      "Searching for \"Oh, What a Night\" by The Dells...\n",
      "Done.\n",
      "Searching for \"Something\" by The Beatles...\n",
      "Done.\n",
      "Searching for \"This Girl Is a Woman Now\" by Gary Puckett & The Union Gap...\n",
      "Done.\n",
      "Searching for \"Come Together\" by The Beatles...\n",
      "Done.\n",
      "Searching for \"Ramblin' Gamblin' Man\" by Bob Seger...\n",
      "Done.\n",
      "Searching for \"I'm Gonna Make You Love Me\" by The Supremes & The Temptations...\n",
      "Done.\n",
      "Searching for \"I Heard It Through the Grapevine\" by Marvin Gaye...\n",
      "Done.\n",
      "Searching for \"Gimme Gimme Good Lovin'\" by Crazy Elephant...\n",
      "Done.\n",
      "Searching for \"Hang 'Em High\" by Booker T & the M.G.'s...\n",
      "Done.\n",
      "Searching for \"Your Good Thing (Is About to End)\" by Lou Rawls...\n",
      "Done.\n",
      "Searching for \"Baby, I'm for Real\" by The Originals...\n",
      "Done.\n",
      "Searching for \"Oh Happy Day\" by Edwin Hawkins Singers...\n",
      "Done.\n",
      "Searching for \"Love Me Tonight\" by Tom Jones...\n",
      "Done.\n",
      "Searching for \"Mr. Sun, Mr. Moon\" by Paul Revere & the Raiders...\n",
      "Done.\n",
      "Searching for \"Laughing\" by The Guess Who...\n",
      "Done.\n",
      "Searching for \"My Whole World Ended (The Moment You Left Me)\" by David Ruffin...\n",
      "Done.\n",
      "Searching for \"Soul Deep\" by The Box Tops...\n",
      "Done.\n",
      "Searching for \"Hooked on a Feeling\" by B.J. Thomas...\n",
      "Done.\n",
      "Searching for \"Sweet Cream Ladies\" by The Box Tops...\n",
      "Done.\n"
     ]
    }
   ],
   "source": [
    "#get lyrics\n",
    "LyricsStatus = \"\"\n",
    "\n",
    "for i in songs_data.index:\n",
    "    artist = songs_data['Artist_x'][i]\n",
    "    song = songs_data['Song_x'][i]\n",
    "    if songs_data['LyricsStatus'][i] == \"\": #pd.isnull(songs_data['LyricsStatus'][i]):\n",
    "        try:\n",
    "            genius_lyrics = genius.search_song(song, artist)\n",
    "            songs_data.at[i,'LyricsStatus'] = 1\n",
    "            songs_data.at[i,'GeniusLyrics'] = genius_lyrics.lyrics\n",
    "        except(AttributeError):\n",
    "            print(f\"{song} not found. Skipping...\\n\")"
   ]
  },
  {
   "cell_type": "code",
   "execution_count": 11,
   "metadata": {},
   "outputs": [],
   "source": [
    "#export to csv for review\n",
    "songs_data.to_csv(f\"data/billboard_hot_100_1965_to_2018_with_lyrics_{start}_to_{i-1}.csv\")"
   ]
  },
  {
   "cell_type": "code",
   "execution_count": 12,
   "metadata": {},
   "outputs": [
    {
     "name": "stdout",
     "output_type": "stream",
     "text": [
      "Sweet cream ladies, forward march;\n",
      "The world owes you a living\n",
      "Sweet cream ladies, do your part\n",
      "Think of what you're giving\n",
      "To the lost and lonely people of the night\n",
      "Out of need, they seek direction for their life\n",
      "They will love you in the darkness\n",
      "Take advantage of your starkness\n",
      "And refuse to recognize you in the light\n",
      "Sweet cream ladies, forward march;\n",
      "Think what you're providing\n",
      "Sweet cream ladies, show your starch;\n",
      "What's the use of hiding?\n",
      "Tell the socialites to look the other way;\n",
      "It's instinctive stimulation you convey\n",
      "It's a necessary function\n",
      "Meant for those without compunction\n",
      "Who get tired of vanilla every day\n",
      "Sweet cream ladies forward march;\n",
      "Puritans ignore them\n",
      "Sweet cream ladies do their part;\n",
      "Sweet cream men adore them\n",
      "Let them satisfy the ego of the male\n",
      "Let them fabricate success to those who fail\n",
      "And should penalties pursue them\n",
      "When there's really credit due them\n",
      "They might keep a simple fellow out of jail!\n",
      "Sweet cream ladies, forward march. O-o-o\n"
     ]
    }
   ],
   "source": [
    "#view formatted lyrics for last song processed\n",
    "print(songs_data['GeniusLyrics'][i])"
   ]
  },
  {
   "cell_type": "code",
   "execution_count": null,
   "metadata": {},
   "outputs": [],
   "source": [
    "##### Artist Counts ######"
   ]
  },
  {
   "cell_type": "code",
   "execution_count": null,
   "metadata": {},
   "outputs": [],
   "source": [
    "#group records by artist\n",
    "artist_group = songs_data.groupby('Artist')\n",
    "\n",
    "#get group by count\n",
    "artist_count = artist_group[\"Artist\"].count()"
   ]
  },
  {
   "cell_type": "code",
   "execution_count": null,
   "metadata": {},
   "outputs": [],
   "source": [
    "artist_count.sort_values(ascending = False).head()"
   ]
  },
  {
   "cell_type": "code",
   "execution_count": null,
   "metadata": {},
   "outputs": [],
   "source": [
    "#get word count for each song\n",
    "songs_data[\"WordCount\"] = \"\"\n",
    "songs_data.Lyrics = song_merged.Lyrics.astype('str') \n",
    "for i in songs_data.index:\n",
    "    print(songs_data['Song'][i], len(song_merged['Lyrics'][i].split()))"
   ]
  }
 ],
 "metadata": {
  "kernelspec": {
   "display_name": "Python 3",
   "language": "python",
   "name": "python3"
  },
  "language_info": {
   "codemirror_mode": {
    "name": "ipython",
    "version": 3
   },
   "file_extension": ".py",
   "mimetype": "text/x-python",
   "name": "python",
   "nbconvert_exporter": "python",
   "pygments_lexer": "ipython3",
   "version": "3.7.1"
  }
 },
 "nbformat": 4,
 "nbformat_minor": 2
}
