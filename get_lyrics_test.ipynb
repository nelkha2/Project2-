{
 "cells": [
  {
   "cell_type": "code",
   "execution_count": 2,
   "metadata": {},
   "outputs": [
    {
     "name": "stdout",
     "output_type": "stream",
     "text": [
      "Collecting lyricsgenius\n",
      "  Downloading https://files.pythonhosted.org/packages/3d/c6/be467deb1041809bf0bc66fba37a74c05e96f5f3d2b4e6c3c73c5bb7a01c/lyricsgenius-1.7.0-py3-none-any.whl\n",
      "Collecting beautifulsoup4==4.6.0 (from lyricsgenius)\n",
      "  Downloading https://files.pythonhosted.org/packages/9e/d4/10f46e5cfac773e22707237bfcd51bbffeaf0a576b0a847ec7ab15bd7ace/beautifulsoup4-4.6.0-py3-none-any.whl (86kB)\n",
      "Requirement already satisfied: requests>=2.20.0 in c:\\users\\mharv\\anaconda3\\lib\\site-packages (from lyricsgenius) (2.21.0)\n",
      "Requirement already satisfied: certifi>=2017.4.17 in c:\\users\\mharv\\anaconda3\\lib\\site-packages (from requests>=2.20.0->lyricsgenius) (2019.9.11)\n",
      "Requirement already satisfied: chardet<3.1.0,>=3.0.2 in c:\\users\\mharv\\anaconda3\\lib\\site-packages (from requests>=2.20.0->lyricsgenius) (3.0.4)\n",
      "Requirement already satisfied: idna<2.9,>=2.5 in c:\\users\\mharv\\anaconda3\\lib\\site-packages (from requests>=2.20.0->lyricsgenius) (2.8)\n",
      "Requirement already satisfied: urllib3<1.25,>=1.21.1 in c:\\users\\mharv\\anaconda3\\lib\\site-packages (from requests>=2.20.0->lyricsgenius) (1.24.1)\n",
      "Installing collected packages: beautifulsoup4, lyricsgenius\n",
      "  Found existing installation: beautifulsoup4 4.7.1\n",
      "    Uninstalling beautifulsoup4-4.7.1:\n",
      "      Successfully uninstalled beautifulsoup4-4.7.1\n",
      "Successfully installed beautifulsoup4-4.6.0 lyricsgenius-1.7.0\n"
     ]
    }
   ],
   "source": [
    "! pip install lyricsgenius"
   ]
  },
  {
   "cell_type": "code",
   "execution_count": 1,
   "metadata": {},
   "outputs": [],
   "source": [
    "import lyricsgenius"
   ]
  },
  {
   "cell_type": "code",
   "execution_count": 2,
   "metadata": {},
   "outputs": [],
   "source": [
    "genius = lyricsgenius.Genius(\"p6ctaU5y06hG-yggcUBTOqTlDIiZBSKzarJVoy6rn5w9R2fYkgHhRZAzbChbmSCh\")\n",
    "genius.verbose = True # Turn on/off status messages\n",
    "genius.remove_section_headers = True # Remove section headers (e.g. [Chorus]) from lyrics when searching\n",
    "genius.skip_non_songs = False # Include hits thought to be non-songs (e.g. track lists)\n",
    "genius.excluded_terms = [\"(Remix)\", \"(Live)\"] # Exclude songs with these words in their title"
   ]
  },
  {
   "cell_type": "code",
   "execution_count": 5,
   "metadata": {},
   "outputs": [
    {
     "name": "stdout",
     "output_type": "stream",
     "text": [
      "Searching for \"Ja Rule\" by Put It On Me...\n",
      "Done.\n",
      "Where would I be without you?\n",
      "\n",
      "Where would I be without my baby?\n",
      "The thought alone might break me\n",
      "And I don't wanna go crazy\n",
      "But every thug needs a lady\n",
      "\n",
      "Girl, it feel like you and I been mourning together\n",
      "Inseparable, we chose pain over pleasure\n",
      "For that you'll forever be a, part of me\n",
      "Mind, body and soul ain't no I in we (baby)\n",
      "When you cry who wipes your tears\n",
      "When you scared, who's telling you there's nothin' to fear\n",
      "Girl, I'll always be there\n",
      "When you need a shoulder to lean on\n",
      "Never hesitate knowing you can call on, your soul-mate\n",
      "And vice versa, that's why I be the first to\n",
      "See Jacob's and frost your wrist up\n",
      "Now you owe me, I know you're tired of being lonely\n",
      "So baby girl, put it on me\n",
      "\n",
      "Where would I be without you? (Uh)\n",
      "I only think about you (yeah)\n",
      "I know you're tired of being lonely (lonely)\n",
      "So baby girl, put it on me (put it on me)\n",
      "Where would I be without you? (Uh)\n",
      "I only think about you (yeah)\n",
      "I know you're tired of being lonely (lonely)\n",
      "So baby girl, put it on me (put it on me)\n",
      "\n",
      "Yo, and I appreciate the rocks and gifts that you cop me, baby\n",
      "And that house on the hill when you drop like 80\n",
      "On a down payment thinking damn ain't life gravy\n",
      "And ever since for my honey I been twice the lady\n",
      "What would I do without the nights that you kept me warm\n",
      "When this cold world had a girl caught in a storm\n",
      "And I accept when you riff when you caught in the wrong\n",
      "And respect when you flip, cause our love is strong\n",
      "And when you hit the block, I watch for 10-4\n",
      "And when my pops asleep you snuck in the backdoor\n",
      "Baby boy we been down since junior high\n",
      "So when life get hot in July it's the world against you and I\n",
      "We ballin', tied together and never\n",
      "Heart from the heart, knew that it would last forever\n",
      "When you told me, you would never leave me lonely\n",
      "So baby boy put it on me\n",
      "\n",
      "Where would I be without you? (Uh)\n",
      "I only think about you (yeah)\n",
      "I know you're tired of being lonely (lonely)\n",
      "So baby girl, put it on me (put it on me)\n",
      "Where would I be without you? (Uh)\n",
      "I only think about you (yeah)\n",
      "I know you're tired of being lonely (lonely)\n",
      "So baby girl, put it on me (put it on me)\n",
      "\n",
      "Since we met it's been you and I\n",
      "A tear for a tear, baby eye for an eye\n",
      "And you know that my heart gon cry\n",
      "If you leave me lonely\n",
      "'Cause you not just my love you my homie\n",
      "Who's gonna console me, my love\n",
      "I'm outta control hold me, my love\n",
      "'Cause I'm yours\n",
      "And I don't wanna do nothin' to hurt my baby girl\n",
      "If this was our world it'd be all yours, baby\n",
      "The thought alone might break me\n",
      "And I don't wanna go crazy\n",
      "Cause every thug needs a lady (yeah, yeah)\n",
      "I feel you baby cause them eyes ain't lying\n",
      "Wash away all the tears there be no more crying (baby)\n",
      "And you complete me, and I would die if you ain't wit me\n",
      "So baby girl put it on me\n",
      "\n",
      "Where would I be without you? (Uh)\n",
      "I only think about you (yeah)\n",
      "I know you're tired of being lonely (lonely)\n",
      "So baby girl, put it on me (put it on me)\n",
      "Where would I be without you? (Uh)\n",
      "I only think about you (yeah)\n",
      "I know you're tired of being lonely (lonely)\n",
      "So baby girl, put it on me (put it on me)\n",
      "Where would I be without you? (Uh)\n",
      "I only think about you (yeah)\n",
      "I know you're tired of being lonely (lonely)\n",
      "So baby girl, put it on me (put it on me)\n",
      "Where would I be without you? (Uh)\n",
      "I only think about you (yeah)\n",
      "I know you're tired of being lonely (lonely)\n",
      "So baby girl, put it on me (put it on me)\n"
     ]
    }
   ],
   "source": [
    "song = genius.search_song(\"Coolio\", \"Gangsta's Paradise\")\n",
    "print(song.lyrics)"
   ]
  },
  {
   "cell_type": "code",
   "execution_count": null,
   "metadata": {},
   "outputs": [],
   "source": []
  }
 ],
 "metadata": {
  "kernelspec": {
   "display_name": "Python 3",
   "language": "python",
   "name": "python3"
  },
  "language_info": {
   "codemirror_mode": {
    "name": "ipython",
    "version": 3
   },
   "file_extension": ".py",
   "mimetype": "text/x-python",
   "name": "python",
   "nbconvert_exporter": "python",
   "pygments_lexer": "ipython3",
   "version": "3.7.1"
  }
 },
 "nbformat": 4,
 "nbformat_minor": 2
}
