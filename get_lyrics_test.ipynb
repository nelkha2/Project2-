{
 "cells": [
  {
   "cell_type": "code",
   "execution_count": 7,
   "metadata": {},
   "outputs": [],
   "source": [
    "#! pip install lyricsgenius"
   ]
  },
  {
   "cell_type": "code",
   "execution_count": 21,
   "metadata": {},
   "outputs": [],
   "source": [
    "import lyricsgenius"
   ]
  },
  {
   "cell_type": "code",
   "execution_count": 26,
   "metadata": {},
   "outputs": [],
   "source": [
    "genius = lyricsgenius.Genius(\"p6ctaU5y06hG-yggcUBTOqTlDIiZBSKzarJVoy6rn5w9R2fYkgHhRZAzbChbmSCh\")\n",
    "genius.verbose = True # Turn on/off status messages\n",
    "genius.remove_section_headers = True # Remove section headers (e.g. [Chorus]) from lyrics when searching\n",
    "genius.skip_non_songs = False # Include hits thought to be non-songs (e.g. track lists)\n",
    "genius.excluded_terms = [\"(Remix)\", \"(Live)\"] # Exclude songs with these words in their title"
   ]
  },
  {
   "cell_type": "code",
   "execution_count": 29,
   "metadata": {},
   "outputs": [
    {
     "name": "stdout",
     "output_type": "stream",
     "text": [
      "Searching for \"Ramblin' Gamblin' Man\" by Bob Seger...\n",
      "Done.\n",
      "Yeah, I'm gonna tell my tale come on, uh come on, give a listen\n",
      "Cause I was born lonely down by the riverside\n",
      "Learned to spin fortune wheels and throw dice\n",
      "I was just thirteen when I had to leave home\n",
      "Knew I couldn't stick around\n",
      "I had to roam, ain't good lookin'\n",
      "But you know I ain't shy\n",
      "Ain't afraid to look you girl, hey in the eye\n",
      "So if you need some lovin' and you need it right away\n",
      "Take a little time out and maybe I'll stay\n",
      "But I got to ramble (Ramblin' man)\n",
      "Gamble (Gamblin' man)\n",
      "Got to, got to ramble (ramblin' man)\n",
      "E\n",
      "I was born a ramblin', gamblin' man\n",
      "Yeah, uhh, say, yeah, yeah, yeah, yeah, yeah, hah, hah\n",
      "A bring it on, come on now\n",
      "Yeah, alright, here we go now\n",
      "Now, I'm out of money, 'cause you know I need some\n",
      "Ain't gonna run on lovin' and I must run\n",
      "Got to keep movin', never gonna slow down\n",
      "You can have your funky world, see you 'round\n",
      "Cause I got to ramble (Ramblin' man)\n",
      "I got to gamble (gamblin' man)\n",
      "I got to ramble (ramblin' man)\n",
      "Lord I'm a ramblin', gamblin' man\n",
      "Oh! I'm just a rambler\n",
      "Yeah! and I'm just a gambler\n",
      "Come on and sing along\n",
      "'Cause I'm just a rambler (ramblin' man)\n",
      "Lord I'm a gambler (gamblin' man)\n",
      "I'm a rambler\n"
     ]
    }
   ],
   "source": [
    "song = genius.search_song(\"Ramblin' Gamblin' Man\", \"Bob Seger\")\n",
    "print(song.lyrics)"
   ]
  },
  {
   "cell_type": "code",
   "execution_count": null,
   "metadata": {},
   "outputs": [],
   "source": []
  }
 ],
 "metadata": {
  "kernelspec": {
   "display_name": "Python 3",
   "language": "python",
   "name": "python3"
  },
  "language_info": {
   "codemirror_mode": {
    "name": "ipython",
    "version": 3
   },
   "file_extension": ".py",
   "mimetype": "text/x-python",
   "name": "python",
   "nbconvert_exporter": "python",
   "pygments_lexer": "ipython3",
   "version": "3.7.1"
  }
 },
 "nbformat": 4,
 "nbformat_minor": 2
}
