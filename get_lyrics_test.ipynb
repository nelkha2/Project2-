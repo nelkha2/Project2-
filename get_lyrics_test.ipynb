{
 "cells": [
  {
   "cell_type": "code",
   "execution_count": 2,
   "metadata": {},
   "outputs": [
    {
     "name": "stdout",
     "output_type": "stream",
     "text": [
      "Collecting lyricsgenius\n",
      "  Downloading https://files.pythonhosted.org/packages/3d/c6/be467deb1041809bf0bc66fba37a74c05e96f5f3d2b4e6c3c73c5bb7a01c/lyricsgenius-1.7.0-py3-none-any.whl\n",
      "Collecting beautifulsoup4==4.6.0 (from lyricsgenius)\n",
      "  Downloading https://files.pythonhosted.org/packages/9e/d4/10f46e5cfac773e22707237bfcd51bbffeaf0a576b0a847ec7ab15bd7ace/beautifulsoup4-4.6.0-py3-none-any.whl (86kB)\n",
      "Requirement already satisfied: requests>=2.20.0 in c:\\users\\mharv\\anaconda3\\lib\\site-packages (from lyricsgenius) (2.21.0)\n",
      "Requirement already satisfied: certifi>=2017.4.17 in c:\\users\\mharv\\anaconda3\\lib\\site-packages (from requests>=2.20.0->lyricsgenius) (2019.9.11)\n",
      "Requirement already satisfied: chardet<3.1.0,>=3.0.2 in c:\\users\\mharv\\anaconda3\\lib\\site-packages (from requests>=2.20.0->lyricsgenius) (3.0.4)\n",
      "Requirement already satisfied: idna<2.9,>=2.5 in c:\\users\\mharv\\anaconda3\\lib\\site-packages (from requests>=2.20.0->lyricsgenius) (2.8)\n",
      "Requirement already satisfied: urllib3<1.25,>=1.21.1 in c:\\users\\mharv\\anaconda3\\lib\\site-packages (from requests>=2.20.0->lyricsgenius) (1.24.1)\n",
      "Installing collected packages: beautifulsoup4, lyricsgenius\n",
      "  Found existing installation: beautifulsoup4 4.7.1\n",
      "    Uninstalling beautifulsoup4-4.7.1:\n",
      "      Successfully uninstalled beautifulsoup4-4.7.1\n",
      "Successfully installed beautifulsoup4-4.6.0 lyricsgenius-1.7.0\n"
     ]
    }
   ],
   "source": [
    "! pip install lyricsgenius"
   ]
  },
  {
   "cell_type": "code",
   "execution_count": 3,
   "metadata": {},
   "outputs": [],
   "source": [
    "import lyricsgenius"
   ]
  },
  {
   "cell_type": "code",
   "execution_count": 4,
   "metadata": {},
   "outputs": [],
   "source": [
    "genius = lyricsgenius.Genius(\"p6ctaU5y06hG-yggcUBTOqTlDIiZBSKzarJVoy6rn5w9R2fYkgHhRZAzbChbmSCh\")\n",
    "genius.verbose = True # Turn on/off status messages\n",
    "genius.remove_section_headers = True # Remove section headers (e.g. [Chorus]) from lyrics when searching\n",
    "genius.skip_non_songs = False # Include hits thought to be non-songs (e.g. track lists)\n",
    "genius.excluded_terms = [\"(Remix)\", \"(Live)\"] # Exclude songs with these words in their title"
   ]
  },
  {
   "cell_type": "code",
   "execution_count": 5,
   "metadata": {},
   "outputs": [
    {
     "name": "stdout",
     "output_type": "stream",
     "text": [
      "Searching for \"Hey Jude\" by The Beatles...\n",
      "Done.\n",
      "Hey Jude, don't make it bad\n",
      "Take a sad song and make it better\n",
      "Remember to let her into your heart\n",
      "Then you can start to make it better\n",
      "\n",
      "Hey Jude, don't be afraid\n",
      "You were made to go out and get her\n",
      "The minute you let her under your skin\n",
      "Then you begin to make it better\n",
      "\n",
      "And anytime you feel the pain, hey Jude, refrain\n",
      "Don't carry the world upon your shoulders\n",
      "For well you know that it's a fool who plays it cool\n",
      "By making his world a little colder\n",
      "Na na na na na na na na na na\n",
      "\n",
      "Hey Jude, don't let me down\n",
      "You have found her, now go and get her\n",
      "(Let it out and let it in)\n",
      "Remember (Hey Jude) to let her into your heart\n",
      "Then you can start to make it better\n",
      "\n",
      "So let it out and let it in, hey Jude, begin\n",
      "You're waiting for someone to perform with\n",
      "And don't you know that it's just you, hey Jude, you'll do\n",
      "The movement you need is on your shoulder\n",
      "Na na na na na na na na na yeah\n",
      "\n",
      "Hey Jude, don't make it bad\n",
      "Take a sad song and make it better\n",
      "Remember to let her under your skin\n",
      "Then you'll begin to make it (Whoa, fucking hell!)\n",
      "Better better better better better better, oh\n",
      "\n",
      "Yeah yeah yeah yeah yeah yeah yeah\n",
      "Naa na na na na na na, na na na na, hey Jude\n",
      "Naa na na na na na na, na na na na, hey Jude\n",
      "Naa na na na na na na, na na na na, hey Jude\n",
      "Naa na na na na na na, na na na na, hey Jude\n",
      "(Jude Judy Judy Judy Judy Judy owwwww wowww)\n",
      "Naa na na na na na na (Na na na), na na na na, hey Jude\n",
      "(Jude Jude Jude Jude Jude)\n",
      "Naa na na na na na na (Yeah yeah yeah), na na na na, hey Jude\n",
      "(You know you can make, Jude Jude, You're not gonna break it)\n",
      "Naa na (Don't make it bad Jude) na na na na na (Take a sad song and make it better), na na na na, hey Jude\n",
      "Hey Jude, hey Jude wowwwwww\n",
      "Naa na na na na na na, na na na na, hey Jude\n",
      "Naa na na na na na na, na na na na, hey Jude\n",
      "Jude Jude Jude Jude Jude Jude\n",
      "Naa na na na na na na, na na na na, hey Jude\n",
      "Naa na na na na na na, na na na na, hey Jude\n",
      "(Na na na na na na na na na na na na)\n",
      "Naa na na na na na na, na na na na, hey Jude\n",
      "Naa na na na na na na, na na na na, hey Jude\n",
      "Naa na na na na na na (Make it Jude), na na na na, hey Jude\n",
      "(Yeah yeah yeah yeah yeah yeah yeah)\n",
      "Naa na na na na na na, na na na na, hey Jude\n",
      "(Go listen to ya ma ma ma ma ma ma ma ma)\n",
      "Naa na na na na na na, na na na na, hey Jude\n",
      "Naa na na na na na na, na na na na, hey Jude\n"
     ]
    }
   ],
   "source": [
    "song = genius.search_song(\"Hey Jude\", \"The Beatles\")\n",
    "print(song.lyrics)"
   ]
  },
  {
   "cell_type": "code",
   "execution_count": null,
   "metadata": {},
   "outputs": [],
   "source": []
  }
 ],
 "metadata": {
  "kernelspec": {
   "display_name": "Python 3",
   "language": "python",
   "name": "python3"
  },
  "language_info": {
   "codemirror_mode": {
    "name": "ipython",
    "version": 3
   },
   "file_extension": ".py",
   "mimetype": "text/x-python",
   "name": "python",
   "nbconvert_exporter": "python",
   "pygments_lexer": "ipython3",
   "version": "3.7.1"
  }
 },
 "nbformat": 4,
 "nbformat_minor": 2
}
