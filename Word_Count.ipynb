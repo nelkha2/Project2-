{
 "cells": [
  {
   "cell_type": "code",
   "execution_count": 1,
   "metadata": {},
   "outputs": [],
   "source": [
    "import pandas as pd\n",
    "import numpy as np\n",
    "from sqlalchemy import create_engine"
   ]
  },
  {
   "cell_type": "code",
   "execution_count": 6,
   "metadata": {},
   "outputs": [],
   "source": [
    "songs_file = 'data/billboard_hot_100_1960_to_2018_with_lyrics.csv'"
   ]
  },
  {
   "cell_type": "code",
   "execution_count": 7,
   "metadata": {},
   "outputs": [],
   "source": [
    "songs_data = pd.read_csv(songs_file).set_index('rankid')\n",
    "\n",
    "songs_data.geniuslyrics = songs_data.geniuslyrics.astype('str') \n",
    "songs_data.wordcount = songs_data.wordcount.astype('int') "
   ]
  },
  {
   "cell_type": "code",
   "execution_count": 8,
   "metadata": {},
   "outputs": [
    {
     "data": {
      "text/html": [
       "<div>\n",
       "<style scoped>\n",
       "    .dataframe tbody tr th:only-of-type {\n",
       "        vertical-align: middle;\n",
       "    }\n",
       "\n",
       "    .dataframe tbody tr th {\n",
       "        vertical-align: top;\n",
       "    }\n",
       "\n",
       "    .dataframe thead th {\n",
       "        text-align: right;\n",
       "    }\n",
       "</style>\n",
       "<table border=\"1\" class=\"dataframe\">\n",
       "  <thead>\n",
       "    <tr style=\"text-align: right;\">\n",
       "      <th></th>\n",
       "      <th>rank</th>\n",
       "      <th>artist</th>\n",
       "      <th>song</th>\n",
       "      <th>year</th>\n",
       "      <th>geniuslyrics</th>\n",
       "      <th>artist_primary</th>\n",
       "      <th>decade</th>\n",
       "      <th>wordcount</th>\n",
       "    </tr>\n",
       "    <tr>\n",
       "      <th>rankid</th>\n",
       "      <th></th>\n",
       "      <th></th>\n",
       "      <th></th>\n",
       "      <th></th>\n",
       "      <th></th>\n",
       "      <th></th>\n",
       "      <th></th>\n",
       "      <th></th>\n",
       "    </tr>\n",
       "  </thead>\n",
       "  <tbody>\n",
       "    <tr>\n",
       "      <th>4867</th>\n",
       "      <td>67</td>\n",
       "      <td>Colbie Caillat</td>\n",
       "      <td>Realize</td>\n",
       "      <td>2008</td>\n",
       "      <td>nan</td>\n",
       "      <td>Colbie Caillat</td>\n",
       "      <td>2000's</td>\n",
       "      <td>0</td>\n",
       "    </tr>\n",
       "    <tr>\n",
       "      <th>4869</th>\n",
       "      <td>69</td>\n",
       "      <td>David Cook</td>\n",
       "      <td>The Time of My Life</td>\n",
       "      <td>2008</td>\n",
       "      <td>nan</td>\n",
       "      <td>David Cook</td>\n",
       "      <td>2000's</td>\n",
       "      <td>0</td>\n",
       "    </tr>\n",
       "    <tr>\n",
       "      <th>4855</th>\n",
       "      <td>55</td>\n",
       "      <td>Linkin Park</td>\n",
       "      <td>Shadow of the Day</td>\n",
       "      <td>2008</td>\n",
       "      <td>nan</td>\n",
       "      <td>Linkin Park</td>\n",
       "      <td>2000's</td>\n",
       "      <td>0</td>\n",
       "    </tr>\n",
       "    <tr>\n",
       "      <th>4857</th>\n",
       "      <td>57</td>\n",
       "      <td>Ne-Yo</td>\n",
       "      <td>Miss Independent</td>\n",
       "      <td>2008</td>\n",
       "      <td>nan</td>\n",
       "      <td>Ne-Yo</td>\n",
       "      <td>2000's</td>\n",
       "      <td>0</td>\n",
       "    </tr>\n",
       "    <tr>\n",
       "      <th>4858</th>\n",
       "      <td>58</td>\n",
       "      <td>Secondhand Serenade</td>\n",
       "      <td>Fall for You</td>\n",
       "      <td>2008</td>\n",
       "      <td>nan</td>\n",
       "      <td>Secondhand Serenade</td>\n",
       "      <td>2000's</td>\n",
       "      <td>0</td>\n",
       "    </tr>\n",
       "  </tbody>\n",
       "</table>\n",
       "</div>"
      ],
      "text/plain": [
       "        rank               artist                 song  year geniuslyrics  \\\n",
       "rankid                                                                      \n",
       "4867      67       Colbie Caillat              Realize  2008          nan   \n",
       "4869      69           David Cook  The Time of My Life  2008          nan   \n",
       "4855      55          Linkin Park    Shadow of the Day  2008          nan   \n",
       "4857      57                Ne-Yo     Miss Independent  2008          nan   \n",
       "4858      58  Secondhand Serenade         Fall for You  2008          nan   \n",
       "\n",
       "             artist_primary  decade  wordcount  \n",
       "rankid                                          \n",
       "4867         Colbie Caillat  2000's          0  \n",
       "4869             David Cook  2000's          0  \n",
       "4855            Linkin Park  2000's          0  \n",
       "4857                  Ne-Yo  2000's          0  \n",
       "4858    Secondhand Serenade  2000's          0  "
      ]
     },
     "execution_count": 8,
     "metadata": {},
     "output_type": "execute_result"
    }
   ],
   "source": [
    "songs_data.head()"
   ]
  },
  {
   "cell_type": "code",
   "execution_count": null,
   "metadata": {},
   "outputs": [],
   "source": [
    "##### Artist Counts ######"
   ]
  },
  {
   "cell_type": "code",
   "execution_count": null,
   "metadata": {},
   "outputs": [],
   "source": [
    "#group records by artist\n",
    "artist_group = songs_data.groupby('Artist')\n",
    "\n",
    "#get group by count\n",
    "artist_count = artist_group[\"Artist\"].count()"
   ]
  },
  {
   "cell_type": "code",
   "execution_count": null,
   "metadata": {},
   "outputs": [],
   "source": [
    "artist_count.sort_values(ascending = False).head()"
   ]
  },
  {
   "cell_type": "code",
   "execution_count": 16,
   "metadata": {},
   "outputs": [
    {
     "name": "stderr",
     "output_type": "stream",
     "text": [
      "C:\\Users\\mharv\\Anaconda3\\lib\\site-packages\\ipykernel_launcher.py:8: SettingWithCopyWarning: \n",
      "A value is trying to be set on a copy of a slice from a DataFrame\n",
      "\n",
      "See the caveats in the documentation: http://pandas.pydata.org/pandas-docs/stable/indexing.html#indexing-view-versus-copy\n",
      "  \n",
      "C:\\Users\\mharv\\Anaconda3\\lib\\site-packages\\ipykernel_launcher.py:10: SettingWithCopyWarning: \n",
      "A value is trying to be set on a copy of a slice from a DataFrame\n",
      "\n",
      "See the caveats in the documentation: http://pandas.pydata.org/pandas-docs/stable/indexing.html#indexing-view-versus-copy\n",
      "  # Remove the CWD from sys.path while we load stuff.\n"
     ]
    }
   ],
   "source": [
    "#get word count for each song\n",
    "\n",
    "wordcount = 0\n",
    "for i in songs_data.index:\n",
    "    lyrics = songs_data['geniuslyrics'][i]\n",
    "    wordcount = len(songs_data['geniuslyrics'][i].split())\n",
    "    if lyrics == \"nan\":\n",
    "        songs_data['wordcount'][i] = 0\n",
    "    else:\n",
    "        songs_data['wordcount'][i] = wordcount"
   ]
  },
  {
   "cell_type": "code",
   "execution_count": 17,
   "metadata": {},
   "outputs": [],
   "source": [
    "#export to csv for review\n",
    "songs_data.to_csv(f\"data/billboard_hot_100_1965_to_2018_with_lyrics_and_wordcount.csv\")"
   ]
  },
  {
   "cell_type": "code",
   "execution_count": null,
   "metadata": {},
   "outputs": [],
   "source": []
  }
 ],
 "metadata": {
  "kernelspec": {
   "display_name": "Python 3",
   "language": "python",
   "name": "python3"
  },
  "language_info": {
   "codemirror_mode": {
    "name": "ipython",
    "version": 3
   },
   "file_extension": ".py",
   "mimetype": "text/x-python",
   "name": "python",
   "nbconvert_exporter": "python",
   "pygments_lexer": "ipython3",
   "version": "3.7.1"
  }
 },
 "nbformat": 4,
 "nbformat_minor": 2
}
